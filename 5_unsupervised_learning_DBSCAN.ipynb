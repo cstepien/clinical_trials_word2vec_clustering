{
 "cells": [
  {
   "cell_type": "markdown",
   "metadata": {},
   "source": [
    "# Unsupervised learning with DBSCAN"
   ]
  },
  {
   "cell_type": "code",
   "execution_count": 6,
   "metadata": {},
   "outputs": [],
   "source": [
    "from pymongo import MongoClient\n",
    "from gensim.models import Word2Vec\n",
    "import gensim\n",
    "import re\n",
    "import string\n",
    "from sklearn.feature_extraction.text import CountVectorizer\n",
    "from nltk.tokenize import TreebankWordTokenizer\n",
    "from nltk.stem import PorterStemmer\n",
    "from nltk.corpus import stopwords\n",
    "import numpy as np\n",
    "import pandas as pd\n",
    "import matplotlib.pyplot as plt\n",
    "from sklearn.decomposition import PCA\n",
    "import networkx as nx\n",
    "from itertools import combinations\n",
    "import community\n",
    "from collections import defaultdict\n",
    "import randomcolor\n",
    "from sklearn.cluster import MiniBatchKMeans\n",
    "from sklearn.metrics import silhouette_score\n",
    "from sklearn.preprocessing import StandardScaler\n",
    "import pickle\n",
    "from scipy.special import comb\n",
    "from scipy.spatial.distance import pdist\n",
    "from sklearn.cluster import DBSCAN"
   ]
  },
  {
   "cell_type": "markdown",
   "metadata": {},
   "source": [
    "## Load reduced-dim vector"
   ]
  },
  {
   "cell_type": "markdown",
   "metadata": {},
   "source": [
    "### 86-dimension vectors "
   ]
  },
  {
   "cell_type": "code",
   "execution_count": 2,
   "metadata": {},
   "outputs": [],
   "source": [
    "reduced_86D_vectors = pickle.load(open(\"86D_threshhold_pca_features.p\", 'rb'))"
   ]
  },
  {
   "cell_type": "code",
   "execution_count": 3,
   "metadata": {},
   "outputs": [],
   "source": [
    "drop_index = np.argwhere(np.isnan(reduced_86D_vectors))\n",
    "drop_row_index = drop_index[:,0]"
   ]
  },
  {
   "cell_type": "code",
   "execution_count": 4,
   "metadata": {},
   "outputs": [
    {
     "data": {
      "text/plain": [
       "(11235, 86)"
      ]
     },
     "execution_count": 4,
     "metadata": {},
     "output_type": "execute_result"
    }
   ],
   "source": [
    "reduced_86D_vectors = pd.DataFrame(reduced_86D_vectors)\n",
    "reduced_86D_vectors = reduced_86D_vectors.dropna()\n",
    "reduced_86D_vectors.shape"
   ]
  },
  {
   "cell_type": "markdown",
   "metadata": {},
   "source": [
    "## DBSCAN "
   ]
  },
  {
   "cell_type": "markdown",
   "metadata": {},
   "source": [
    "### DBSCAN on reduced 86-dimension vectors "
   ]
  },
  {
   "cell_type": "code",
   "execution_count": 7,
   "metadata": {},
   "outputs": [],
   "source": [
    "def dbscan_GridSearch(pcafeatures, eps_min, eps_max, n_steps):\n",
    "\n",
    "    db_clusters = []\n",
    "    db_noise = []\n",
    "    eps_list = []\n",
    "\n",
    "    # Run eps range from minimum to maximum pairwise distance in the dataset\n",
    "    # not sure how to define the num metric: set to 10 now, can set it as an argument later\n",
    "    eps_range = np.linspace(eps_min, eps_max, endpoint=True, num=n_steps)\n",
    "\n",
    "    print('Moving closer to upper bound of epsilon where # clusters is 1\\n')\n",
    "    \n",
    "    print('------', '\\nExploring epsilon range between', eps_min, 'and', eps_max)\n",
    "\n",
    "\n",
    "    for i in eps_range:\n",
    "        if db_clusters.count(1) < 2:\n",
    "            print('Evaluating', i)\n",
    "            db = DBSCAN(eps=i, min_samples=2, metric='cosine').fit(pcafeatures)\n",
    "\n",
    "            core_samples_mask = np.zeros_like(db.labels_, dtype=bool)\n",
    "            core_samples_mask[db.core_sample_indices_] = True\n",
    "            labels = db.labels_\n",
    "\n",
    "            # Number of clusters in labels, ignoring noise if present.\n",
    "            n_clusters_ = len(set(labels)) - (1 if -1 in labels else 0)\n",
    "            db_clusters.append(n_clusters_)\n",
    "\n",
    "            n_noise_ = np.count_nonzero(db.labels_ == -1)\n",
    "            db_noise.append(n_noise_)\n",
    "\n",
    "            eps_list.append(i)\n",
    "        \n",
    "    if db_clusters.count(1) > 1: \n",
    "        print('\\nReached epsilon giving clusters = 1')\n",
    "        eps_max = eps_list[-db_clusters.count(1)]\n",
    "        return dbscan_GridSearch(pcafeatures, eps_min, eps_max, n_steps)\n",
    "    print('------\\nNumber of clusters\\n', db_clusters, '\\n------\\nNumber of noise points:\\n', db_noise)\n",
    "\n",
    "    return db, eps_list, db_noise, db_clusters"
   ]
  },
  {
   "cell_type": "code",
   "execution_count": 8,
   "metadata": {},
   "outputs": [],
   "source": [
    "cosine_pdist = pdist(reduced_86D_vectors, metric='cosine')"
   ]
  },
  {
   "cell_type": "code",
   "execution_count": 9,
   "metadata": {},
   "outputs": [],
   "source": [
    "eps_min = min(i for i in cosine_pdist if i > 0)\n",
    "eps_max = max(cosine_pdist)"
   ]
  },
  {
   "cell_type": "markdown",
   "metadata": {},
   "source": [
    "#### Explore the space "
   ]
  },
  {
   "cell_type": "code",
   "execution_count": 11,
   "metadata": {},
   "outputs": [
    {
     "name": "stdout",
     "output_type": "stream",
     "text": [
      "Moving closer to upper bound of epsilon where # clusters is 1\n",
      "\n",
      "------ \n",
      "Exploring epsilon range between 1.11022302463e-16 and 1.71363744549\n",
      "Evaluating 1.11022302463e-16\n",
      "Evaluating 0.19040416061\n",
      "Evaluating 0.38080832122\n",
      "Evaluating 0.57121248183\n",
      "Evaluating 0.76161664244\n",
      "\n",
      "Reached epsilon giving clusters = 1\n",
      "Moving closer to upper bound of epsilon where # clusters is 1\n",
      "\n",
      "------ \n",
      "Exploring epsilon range between 1.11022302463e-16 and 0.57121248183\n",
      "Evaluating 1.11022302463e-16\n",
      "Evaluating 0.0634680535367\n",
      "Evaluating 0.126936107073\n",
      "Evaluating 0.19040416061\n",
      "Evaluating 0.253872214147\n",
      "Evaluating 0.317340267683\n",
      "Evaluating 0.38080832122\n",
      "Evaluating 0.444276374757\n",
      "Evaluating 0.507744428293\n",
      "Evaluating 0.57121248183\n",
      "------\n",
      "Number of clusters\n",
      " [604, 1094, 939, 657, 361, 159, 53, 13, 3, 1] \n",
      "------\n",
      "Number of noise points:\n",
      " [9153, 6755, 5048, 3441, 2070, 1054, 396, 81, 9, 0]\n"
     ]
    }
   ],
   "source": [
    "db, eps_list, db_noise, db_clusters = dbscan_GridSearch(reduced_86D_vectors, eps_min, eps_max, 10)"
   ]
  },
  {
   "cell_type": "code",
   "execution_count": 14,
   "metadata": {},
   "outputs": [
    {
     "name": "stdout",
     "output_type": "stream",
     "text": [
      "161 4621\n"
     ]
    }
   ],
   "source": [
    "db = DBSCAN(eps=eps_list[3], min_samples=4, metric='cosine').fit(reduced_86D_vectors)\n",
    "\n",
    "core_samples_mask = np.zeros_like(db.labels_, dtype=bool)\n",
    "core_samples_mask[db.core_sample_indices_] = True\n",
    "labels = db.labels_\n",
    "\n",
    "# Number of clusters in labels, ignoring noise if present.\n",
    "n_clusters_ = len(set(labels)) - (1 if -1 in labels else 0)\n",
    "\n",
    "n_noise_ = np.count_nonzero(db.labels_ == -1)\n",
    "\n",
    "print(n_clusters_, n_noise_)"
   ]
  },
  {
   "cell_type": "markdown",
   "metadata": {},
   "source": [
    "### Match cluster labels to individual criteria in 86-dim space"
   ]
  },
  {
   "cell_type": "markdown",
   "metadata": {},
   "source": [
    "Link 'winning' cluster labels to individual criteria and studies."
   ]
  },
  {
   "cell_type": "code",
   "execution_count": 28,
   "metadata": {},
   "outputs": [],
   "source": [
    "def connect_to_mongo(database, collection):\n",
    "    \n",
    "    \"\"\"\n",
    "    Opens a connection to a specified Mongo DB location\n",
    "    \n",
    "    Input Parameters:\n",
    "    database: name of database to connect to or create (str)\n",
    "    collection: name of collection to connect to or create (str)\n",
    "    \n",
    "    Returns:\n",
    "    The connection object for the database without a collection specified\n",
    "    The connection object for a specific Mongo location (database & collection)\n",
    "    \"\"\"\n",
    "    \n",
    "    client = MongoClient()\n",
    "    db = client[database]\n",
    "    mongo_loc = db[collection]\n",
    "    return db, mongo_loc"
   ]
  },
  {
   "cell_type": "code",
   "execution_count": 29,
   "metadata": {},
   "outputs": [],
   "source": [
    "trials_loc, eligibility_loc = connect_to_mongo('clinical_trials', 'eligibilities')"
   ]
  },
  {
   "cell_type": "code",
   "execution_count": 30,
   "metadata": {},
   "outputs": [
    {
     "name": "stdout",
     "output_type": "stream",
     "text": [
      "11298\n"
     ]
    }
   ],
   "source": [
    "doc_cursor = eligibility_loc.find({\"inclusion_criteria\": { '$regex' : \".*asthma.*\"}})\n",
    "\n",
    "study_id = []\n",
    "inclusion_text = []\n",
    "\n",
    "for study in doc_cursor:\n",
    "    for crit in study['cleaned_inclusion']:\n",
    "        study_id.append(study['study_id'])\n",
    "        inclusion_text.append(crit)\n",
    "print(len(study_id))"
   ]
  },
  {
   "cell_type": "code",
   "execution_count": 62,
   "metadata": {},
   "outputs": [
    {
     "data": {
      "text/plain": [
       "11235"
      ]
     },
     "execution_count": 62,
     "metadata": {},
     "output_type": "execute_result"
    }
   ],
   "source": [
    "len(labels)"
   ]
  },
  {
   "cell_type": "markdown",
   "metadata": {},
   "source": [
    "Remove study ids from criteria that were dropped due to having NaN"
   ]
  },
  {
   "cell_type": "code",
   "execution_count": 32,
   "metadata": {},
   "outputs": [],
   "source": [
    "drop_row_list = pickle.load(open(\"drop_row_list.p\", 'rb'))"
   ]
  },
  {
   "cell_type": "code",
   "execution_count": 33,
   "metadata": {},
   "outputs": [],
   "source": [
    "for i in sorted(drop_row_list, reverse=True):\n",
    "    del study_id[i]\n",
    "    del inclusion_text[i]"
   ]
  },
  {
   "cell_type": "code",
   "execution_count": 34,
   "metadata": {},
   "outputs": [
    {
     "data": {
      "text/plain": [
       "2155"
      ]
     },
     "execution_count": 34,
     "metadata": {},
     "output_type": "execute_result"
    }
   ],
   "source": [
    "len(np.unique(study_id))"
   ]
  },
  {
   "cell_type": "code",
   "execution_count": 35,
   "metadata": {},
   "outputs": [
    {
     "data": {
      "text/plain": [
       "11235"
      ]
     },
     "execution_count": 35,
     "metadata": {},
     "output_type": "execute_result"
    }
   ],
   "source": [
    "len(study_id)"
   ]
  },
  {
   "cell_type": "code",
   "execution_count": 36,
   "metadata": {},
   "outputs": [],
   "source": [
    "study_id_array = np.array(study_id).reshape(11235,1)"
   ]
  },
  {
   "cell_type": "code",
   "execution_count": 37,
   "metadata": {},
   "outputs": [
    {
     "data": {
      "text/plain": [
       "array([['NCT00861185'],\n",
       "       ['NCT00861185'],\n",
       "       ['NCT00861185'],\n",
       "       ..., \n",
       "       ['NCT00867737'],\n",
       "       ['NCT00867737'],\n",
       "       ['NCT00867737']], \n",
       "      dtype='<U11')"
      ]
     },
     "execution_count": 37,
     "metadata": {},
     "output_type": "execute_result"
    }
   ],
   "source": [
    "study_id_array"
   ]
  },
  {
   "cell_type": "code",
   "execution_count": 38,
   "metadata": {},
   "outputs": [],
   "source": [
    "inclusion_text_array = np.array(inclusion_text).reshape(11235,1)"
   ]
  },
  {
   "cell_type": "code",
   "execution_count": 41,
   "metadata": {},
   "outputs": [],
   "source": [
    "clusts = labels.reshape(11235,1)"
   ]
  },
  {
   "cell_type": "code",
   "execution_count": 42,
   "metadata": {},
   "outputs": [
    {
     "name": "stdout",
     "output_type": "stream",
     "text": [
      "[['0' 'NCT00861185']\n",
      " ['1' 'NCT00861185']\n",
      " ['0' 'NCT00861185']\n",
      " ..., \n",
      " ['0' 'NCT00867737']\n",
      " ['0' 'NCT00867737']\n",
      " ['0' 'NCT00867737']]\n"
     ]
    }
   ],
   "source": [
    "crit_studies_clusters = np.hstack((clusts, study_id_array))\n",
    "print(crit_studies_clusters)"
   ]
  },
  {
   "cell_type": "code",
   "execution_count": 43,
   "metadata": {},
   "outputs": [],
   "source": [
    "crit_df = pd.DataFrame(crit_studies_clusters)\n",
    "crit_df.columns = ['cluster', 'study_id']"
   ]
  },
  {
   "cell_type": "code",
   "execution_count": 44,
   "metadata": {},
   "outputs": [
    {
     "data": {
      "text/html": [
       "<div>\n",
       "<style scoped>\n",
       "    .dataframe tbody tr th:only-of-type {\n",
       "        vertical-align: middle;\n",
       "    }\n",
       "\n",
       "    .dataframe tbody tr th {\n",
       "        vertical-align: top;\n",
       "    }\n",
       "\n",
       "    .dataframe thead th {\n",
       "        text-align: right;\n",
       "    }\n",
       "</style>\n",
       "<table border=\"1\" class=\"dataframe\">\n",
       "  <thead>\n",
       "    <tr style=\"text-align: right;\">\n",
       "      <th></th>\n",
       "      <th>cluster</th>\n",
       "      <th>study_id</th>\n",
       "    </tr>\n",
       "  </thead>\n",
       "  <tbody>\n",
       "    <tr>\n",
       "      <th>0</th>\n",
       "      <td>0</td>\n",
       "      <td>NCT00861185</td>\n",
       "    </tr>\n",
       "    <tr>\n",
       "      <th>1</th>\n",
       "      <td>1</td>\n",
       "      <td>NCT00861185</td>\n",
       "    </tr>\n",
       "    <tr>\n",
       "      <th>2</th>\n",
       "      <td>0</td>\n",
       "      <td>NCT00861185</td>\n",
       "    </tr>\n",
       "    <tr>\n",
       "      <th>3</th>\n",
       "      <td>0</td>\n",
       "      <td>NCT00861185</td>\n",
       "    </tr>\n",
       "    <tr>\n",
       "      <th>4</th>\n",
       "      <td>-1</td>\n",
       "      <td>NCT00861185</td>\n",
       "    </tr>\n",
       "  </tbody>\n",
       "</table>\n",
       "</div>"
      ],
      "text/plain": [
       "  cluster     study_id\n",
       "0       0  NCT00861185\n",
       "1       1  NCT00861185\n",
       "2       0  NCT00861185\n",
       "3       0  NCT00861185\n",
       "4      -1  NCT00861185"
      ]
     },
     "execution_count": 44,
     "metadata": {},
     "output_type": "execute_result"
    }
   ],
   "source": [
    "crit_df.head()"
   ]
  },
  {
   "cell_type": "code",
   "execution_count": 45,
   "metadata": {},
   "outputs": [],
   "source": [
    "mask = (~crit_df['cluster'].isin(['0', '-1']))\n",
    "crit_df = crit_df[mask]"
   ]
  },
  {
   "cell_type": "markdown",
   "metadata": {},
   "source": [
    "## Format for network plot with criteria as nodes: 86-dim DBSCAN clusters"
   ]
  },
  {
   "cell_type": "code",
   "execution_count": 46,
   "metadata": {},
   "outputs": [],
   "source": [
    "crit_group = crit_df.groupby(by='study_id')['cluster'].apply(tuple)"
   ]
  },
  {
   "cell_type": "code",
   "execution_count": 47,
   "metadata": {},
   "outputs": [],
   "source": [
    "crit_network_input = np.array(crit_group)"
   ]
  },
  {
   "cell_type": "code",
   "execution_count": 48,
   "metadata": {},
   "outputs": [
    {
     "data": {
      "text/plain": [
       "array([('13',), ('2',), ('90',), ..., ('5',), ('39',),\n",
       "       ('95', '96', '10', '97', '98', '99', '100', '101', '102')], dtype=object)"
      ]
     },
     "execution_count": 48,
     "metadata": {},
     "output_type": "execute_result"
    }
   ],
   "source": [
    "crit_network_input"
   ]
  },
  {
   "cell_type": "code",
   "execution_count": 49,
   "metadata": {},
   "outputs": [
    {
     "data": {
      "text/plain": [
       "<itertools.combinations at 0x1a28934458>"
      ]
     },
     "execution_count": 49,
     "metadata": {},
     "output_type": "execute_result"
    }
   ],
   "source": [
    "combinations(crit_network_input[0], 2)"
   ]
  },
  {
   "cell_type": "code",
   "execution_count": 50,
   "metadata": {},
   "outputs": [],
   "source": [
    "network_input = []\n",
    "for crit in crit_network_input:\n",
    "    results = [x for x in combinations(crit, 2)]\n",
    "    network_input += (results)"
   ]
  },
  {
   "cell_type": "code",
   "execution_count": 52,
   "metadata": {},
   "outputs": [
    {
     "data": {
      "text/plain": [
       "[('28', '51'),\n",
       " ('28', '29'),\n",
       " ('51', '29'),\n",
       " ('2', '2'),\n",
       " ('28', '51'),\n",
       " ('28', '29'),\n",
       " ('51', '29'),\n",
       " ('28', '51'),\n",
       " ('28', '29'),\n",
       " ('51', '29')]"
      ]
     },
     "execution_count": 52,
     "metadata": {},
     "output_type": "execute_result"
    }
   ],
   "source": [
    "network_input[:10]"
   ]
  },
  {
   "cell_type": "markdown",
   "metadata": {},
   "source": [
    "## Make network plot: nodes are eligibility criteria"
   ]
  },
  {
   "cell_type": "code",
   "execution_count": 53,
   "metadata": {},
   "outputs": [],
   "source": [
    "trials = nx.Graph()"
   ]
  },
  {
   "cell_type": "code",
   "execution_count": 54,
   "metadata": {},
   "outputs": [],
   "source": [
    "for crit_1, crit_2 in network_input:\n",
    "    trials.add_edge(crit_1, crit_2)"
   ]
  },
  {
   "cell_type": "code",
   "execution_count": 55,
   "metadata": {},
   "outputs": [
    {
     "data": {
      "image/png": "[encoded data removed]",
      "text/plain": [
       "<Figure size 432x288 with 1 Axes>"
      ]
     },
     "metadata": {},
     "output_type": "display_data"
    }
   ],
   "source": [
    "positions = nx.spring_layout(trials)\n",
    "network = nx.draw(trials, pos=positions)\n",
    "labels =  nx.draw_networkx_labels(trials, pos=positions)"
   ]
  },
  {
   "cell_type": "code",
   "execution_count": 56,
   "metadata": {},
   "outputs": [
    {
     "data": {
      "text/plain": [
       "0.046183339142558386"
      ]
     },
     "execution_count": 56,
     "metadata": {},
     "output_type": "execute_result"
    }
   ],
   "source": [
    "nx.density(trials)"
   ]
  },
  {
   "cell_type": "code",
   "execution_count": 57,
   "metadata": {},
   "outputs": [
    {
     "data": {
      "text/plain": [
       "DegreeView({'28': 3, '51': 2, '29': 5, '2': 69, '74': 9, '17': 29, '1': 21, '56': 4, '26': 7, '5': 40, '89': 13, '25': 7, '3': 68, '23': 12, '107': 9, '87': 8, '88': 8, '75': 14, '13': 5, '72': 5, '73': 5, '11': 23, '39': 19, '18': 15, '125': 1, '31': 7, '58': 6, '84': 4, '6': 7, '47': 3, '14': 15, '80': 1, '64': 15, '57': 5, '79': 5, '77': 1, '76': 3, '41': 5, '21': 4, '22': 17, '36': 3, '16': 6, '90': 10, '69': 9, '70': 9, '71': 9, '38': 4, '27': 3, '104': 5, '83': 10, '19': 5, '8': 8, '66': 3, '65': 3, '160': 4, '12': 2, '50': 3, '42': 6, '45': 6, '59': 4, '4': 4, '54': 1, '55': 3, '52': 12, '37': 6, '63': 5, '15': 4, '53': 3, '93': 3, '49': 6, '48': 7, '46': 4, '44': 7, '7': 4, '35': 7, '124': 2, '111': 12, '43': 6, '32': 1, '33': 1, '34': 8, '30': 2, '123': 7, '20': 2, '9': 6, '151': 6, '60': 6, '10': 11, '158': 1, '155': 3, '156': 3, '157': 3, '112': 1, '113': 13, '86': 6, '81': 6, '103': 4, '85': 3, '152': 3, '149': 1, '147': 3, '40': 8, '154': 3, '159': 1, '92': 3, '68': 3, '67': 4, '121': 2, '118': 1, '146': 2, '142': 4, '144': 5, '145': 5, '98': 9, '99': 9, '100': 9, '101': 9, '95': 9, '96': 9, '135': 9, '24': 1, '128': 5, '97': 9, '119': 2, '120': 6, '141': 8, '140': 6, '109': 5, '110': 5, '143': 4, '148': 4, '131': 7, '132': 7, '133': 7, '134': 9, '136': 7, '137': 7, '138': 2, '62': 8, '127': 4, '126': 4, '91': 2, '108': 4, '114': 2, '105': 1, '82': 2, '129': 5, '106': 2, '94': 1, '116': 2, '102': 9, '122': 2})"
      ]
     },
     "execution_count": 57,
     "metadata": {},
     "output_type": "execute_result"
    }
   ],
   "source": [
    "nx.degree(trials)"
   ]
  },
  {
   "cell_type": "code",
   "execution_count": 58,
   "metadata": {},
   "outputs": [
    {
     "data": {
      "image/png": "[encoded data removed]",
      "text/plain": [
       "<Figure size 432x288 with 1 Axes>"
      ]
     },
     "metadata": {},
     "output_type": "display_data"
    }
   ],
   "source": [
    "degree_hist = nx.degree_histogram(trials)\n",
    "xticks = range(len(degree_hist))\n",
    "plt.bar(xticks, degree_hist, align='center')\n",
    "plt.xlabel('Degree')\n",
    "plt.ylabel('Number of nodes with this degree')\n",
    "plt.title('An initial look into the degree distribution');"
   ]
  },
  {
   "cell_type": "markdown",
   "metadata": {},
   "source": [
    "## Format for network plot with studies as nodes "
   ]
  },
  {
   "cell_type": "code",
   "execution_count": 59,
   "metadata": {},
   "outputs": [],
   "source": [
    "crit_group_study_node = crit_df.groupby(by='cluster')['study_id'].apply(tuple)"
   ]
  },
  {
   "cell_type": "code",
   "execution_count": 60,
   "metadata": {},
   "outputs": [],
   "source": [
    "crit_network_input_study_node = np.array(crit_group_study_node)"
   ]
  },
  {
   "cell_type": "code",
   "execution_count": 61,
   "metadata": {},
   "outputs": [],
   "source": [
    "network_input_study_nodes = []\n",
    "for crit in crit_network_input_study_node:\n",
    "    results = [x for x in combinations(crit, 2)]\n",
    "    network_input_study_nodes += (results)"
   ]
  },
  {
   "cell_type": "code",
   "execution_count": 62,
   "metadata": {},
   "outputs": [
    {
     "data": {
      "text/plain": [
       "[('NCT00861185', 'NCT00861211'),\n",
       " ('NCT00861185', 'NCT00819676'),\n",
       " ('NCT00861185', 'NCT00785668'),\n",
       " ('NCT00861185', 'NCT00770315'),\n",
       " ('NCT00861185', 'NCT00783198')]"
      ]
     },
     "execution_count": 62,
     "metadata": {},
     "output_type": "execute_result"
    }
   ],
   "source": [
    "network_input_study_nodes[:5]"
   ]
  },
  {
   "cell_type": "markdown",
   "metadata": {},
   "source": [
    "### Identifying communities in the criteria network "
   ]
  },
  {
   "cell_type": "code",
   "execution_count": 63,
   "metadata": {},
   "outputs": [],
   "source": [
    "modules = community.best_partition(trials)"
   ]
  },
  {
   "cell_type": "code",
   "execution_count": 64,
   "metadata": {},
   "outputs": [
    {
     "data": {
      "text/plain": [
       "14"
      ]
     },
     "execution_count": 64,
     "metadata": {},
     "output_type": "execute_result"
    }
   ],
   "source": [
    "module_ids = set(modules.values())\n",
    "num_modules = len(module_ids)\n",
    "num_modules"
   ]
  },
  {
   "cell_type": "markdown",
   "metadata": {},
   "source": [
    "### Identify which criteria are in each community"
   ]
  },
  {
   "cell_type": "code",
   "execution_count": 65,
   "metadata": {},
   "outputs": [],
   "source": [
    "module_to_nodes = defaultdict(list)\n",
    "for node, module_id in modules.items():\n",
    "    module_to_nodes[module_id].append(node)\n",
    "\n",
    "# module_to_nodes[4]"
   ]
  },
  {
   "cell_type": "markdown",
   "metadata": {},
   "source": [
    "### Plot the criteria network graph with communities "
   ]
  },
  {
   "cell_type": "code",
   "execution_count": 66,
   "metadata": {},
   "outputs": [
    {
     "data": {
      "text/plain": [
       "<matplotlib.collections.LineCollection at 0x1a48c75fd0>"
      ]
     },
     "execution_count": 66,
     "metadata": {},
     "output_type": "execute_result"
    },
    {
     "data": {
      "image/png": "[encoded data removed]",
      "text/plain": [
       "<Figure size 432x288 with 1 Axes>"
      ]
     },
     "metadata": {},
     "output_type": "display_data"
    }
   ],
   "source": [
    "positions = nx.spring_layout(trials)\n",
    "\n",
    "rand_color = randomcolor.RandomColor()\n",
    "colors = rand_color.generate(count=num_modules)\n",
    "for i, module in enumerate(module_ids):\n",
    "    nodes_in_this_module = module_to_nodes[module]\n",
    "    module_color = colors[i % len(colors)]\n",
    "    nx.draw_networkx_nodes(trials,\n",
    "                           positions,\n",
    "                           nodes_in_this_module,\n",
    "                           node_color = module_color,\n",
    "                           node_size = 150)\n",
    "nx.draw_networkx_edges(trials, positions, alpha=0.5)\n",
    "# labels =  nx.draw_networkx_labels(study_nodes, pos=positions)"
   ]
  },
  {
   "cell_type": "markdown",
   "metadata": {},
   "source": [
    "## Network graph: trials as nodes "
   ]
  },
  {
   "cell_type": "code",
   "execution_count": 67,
   "metadata": {},
   "outputs": [],
   "source": [
    "# study_nodes = nx.Graph()"
   ]
  },
  {
   "cell_type": "code",
   "execution_count": 68,
   "metadata": {},
   "outputs": [],
   "source": [
    "# for trial_1, trial_2 in network_input_study_nodes:\n",
    "#     study_nodes.add_edge(trial_1, trial_2)"
   ]
  },
  {
   "cell_type": "code",
   "execution_count": 69,
   "metadata": {},
   "outputs": [],
   "source": [
    "default_weight = 1\n",
    "study_nodes = nx.Graph()\n",
    "for nodes in network_input_study_nodes:\n",
    "    n0 = nodes[0]\n",
    "    n1 = nodes[1]\n",
    "    if study_nodes.has_edge(n0,n1):   \n",
    "        study_nodes[n0][n1]['weight'] += default_weight\n",
    "    else:\n",
    "        study_nodes.add_edge(n0,n1, weight=default_weight)"
   ]
  },
  {
   "cell_type": "code",
   "execution_count": 75,
   "metadata": {},
   "outputs": [
    {
     "data": {
      "image/png": "[encoded data removed]",
      "text/plain": [
       "<Figure size 432x288 with 1 Axes>"
      ]
     },
     "metadata": {},
     "output_type": "display_data"
    }
   ],
   "source": [
    "positions = nx.spring_layout(study_nodes)\n",
    "network = nx.draw(study_nodes, pos=positions, node_size = 15)\n",
    "# labels =  nx.draw_networkx_labels(study_nodes, pos=positions)"
   ]
  },
  {
   "cell_type": "code",
   "execution_count": 76,
   "metadata": {},
   "outputs": [],
   "source": [
    "nx.write_gexf(study_nodes, \"86D_DBSCAN_criteria_nodes.gexf\")"
   ]
  },
  {
   "cell_type": "code",
   "execution_count": 77,
   "metadata": {},
   "outputs": [],
   "source": [
    "neighbor_weights = study_nodes['NCT00862394']"
   ]
  },
  {
   "cell_type": "code",
   "execution_count": 78,
   "metadata": {},
   "outputs": [],
   "source": [
    "# print(neighbor_weights)"
   ]
  },
  {
   "cell_type": "code",
   "execution_count": 79,
   "metadata": {},
   "outputs": [
    {
     "data": {
      "text/plain": [
       "0.11726914957387474"
      ]
     },
     "execution_count": 79,
     "metadata": {},
     "output_type": "execute_result"
    }
   ],
   "source": [
    "nx.density(study_nodes)"
   ]
  },
  {
   "cell_type": "code",
   "execution_count": 80,
   "metadata": {},
   "outputs": [
    {
     "data": {
      "image/png": "[encoded data removed]",
      "text/plain": [
       "<Figure size 432x288 with 1 Axes>"
      ]
     },
     "metadata": {},
     "output_type": "display_data"
    }
   ],
   "source": [
    "degree_hist = nx.degree_histogram(study_nodes)\n",
    "xticks = range(len(degree_hist)) # adjust range and widths\n",
    "plt.bar(xticks, degree_hist, align='center')\n",
    "plt.xlabel('Degree')\n",
    "plt.ylabel('Number of study nodes with this degree')\n",
    "plt.title('An initial look into the degree distribution');"
   ]
  },
  {
   "cell_type": "markdown",
   "metadata": {},
   "source": [
    "### Identifying communities in the network "
   ]
  },
  {
   "cell_type": "code",
   "execution_count": 81,
   "metadata": {},
   "outputs": [],
   "source": [
    "modules = community.best_partition(study_nodes)"
   ]
  },
  {
   "cell_type": "code",
   "execution_count": 82,
   "metadata": {},
   "outputs": [
    {
     "data": {
      "text/plain": [
       "25"
      ]
     },
     "execution_count": 82,
     "metadata": {},
     "output_type": "execute_result"
    }
   ],
   "source": [
    "module_ids = set(modules.values())\n",
    "num_modules = len(module_ids)\n",
    "num_modules"
   ]
  },
  {
   "cell_type": "markdown",
   "metadata": {},
   "source": [
    "### Identify which criteria are in each community"
   ]
  },
  {
   "cell_type": "code",
   "execution_count": 83,
   "metadata": {},
   "outputs": [],
   "source": [
    "module_to_nodes = defaultdict(list)\n",
    "for node, module_id in modules.items():\n",
    "    module_to_nodes[module_id].append(node)\n",
    "\n",
    "# module_to_nodes[0]"
   ]
  },
  {
   "cell_type": "markdown",
   "metadata": {},
   "source": [
    "### Plot the criteria network graph with communities "
   ]
  },
  {
   "cell_type": "code",
   "execution_count": 84,
   "metadata": {},
   "outputs": [
    {
     "data": {
      "text/plain": [
       "<matplotlib.collections.LineCollection at 0x1a29240630>"
      ]
     },
     "execution_count": 84,
     "metadata": {},
     "output_type": "execute_result"
    },
    {
     "data": {
      "image/png": "[encoded data removed]",
      "text/plain": [
       "<Figure size 432x288 with 1 Axes>"
      ]
     },
     "metadata": {},
     "output_type": "display_data"
    }
   ],
   "source": [
    "positions = nx.spring_layout(study_nodes)\n",
    "\n",
    "rand_color = randomcolor.RandomColor()\n",
    "colors = rand_color.generate(hue='random', count=num_modules)\n",
    "for i, module in enumerate(module_ids):\n",
    "    nodes_in_this_module = module_to_nodes[module]\n",
    "    module_color = colors[i % len(colors)]\n",
    "    nx.draw_networkx_nodes(trials,\n",
    "                           positions,\n",
    "                           nodes_in_this_module,\n",
    "                           node_color = module_color,\n",
    "                           node_size = 20)\n",
    "nx.draw_networkx_edges(study_nodes, positions, alpha=0.1)\n",
    "# labels =  nx.draw_networkx_labels(study_nodes, pos=positions)"
   ]
  },
  {
   "cell_type": "code",
   "execution_count": 85,
   "metadata": {},
   "outputs": [],
   "source": [
    "nx.write_gexf(study_nodes, \"86D_DBSCAN_trial_nodes.gexf\")"
   ]
  }
 ],
 "metadata": {
  "kernelspec": {
   "display_name": "Python [default]",
   "language": "python",
   "name": "python3"
  },
  "language_info": {
   "codemirror_mode": {
    "name": "ipython",
    "version": 3
   },
   "file_extension": ".py",
   "mimetype": "text/x-python",
   "name": "python",
   "nbconvert_exporter": "python",
   "pygments_lexer": "ipython3",
   "version": "3.6.5"
  }
 },
 "nbformat": 4,
 "nbformat_minor": 2
}
